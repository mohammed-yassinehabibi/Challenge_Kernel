{
 "cells": [
  {
   "cell_type": "code",
   "execution_count": 15,
   "metadata": {},
   "outputs": [],
   "source": [
    "import pandas as pd\n",
    "import numpy as np\n",
    "from tqdm import tqdm\n",
    "import py_stringmatching as sm\n",
    "import osqp\n",
    "from collections import Counter\n",
    "from scipy.sparse import csc_matrix\n",
    "\n",
    "from Local_packages.kernels import compute_kernel_matrix, gaussian_kernel\n",
    "from Local_packages.run import KernelMethod\n",
    "from Local_packages.optimizer import KLR_solver, SVM_solver"
   ]
  },
  {
   "cell_type": "markdown",
   "metadata": {},
   "source": [
    "# 1 - Load Data"
   ]
  },
  {
   "cell_type": "code",
   "execution_count": 16,
   "metadata": {},
   "outputs": [],
   "source": [
    "# Load the dataset\n",
    "Xtr0 = pd.read_csv('data/Xtr0.csv', index_col=0)\n",
    "Xtr1 = pd.read_csv('data/Xtr1.csv', index_col=0)\n",
    "Xtr2 = pd.read_csv('data/Xtr2.csv',  index_col=0)\n",
    "Xte0 = pd.read_csv('data/Xte0.csv', index_col=0)\n",
    "Xte1 = pd.read_csv('data/Xte1.csv', index_col=0)\n",
    "Xte2 = pd.read_csv('data/Xte2.csv', index_col=0)\n",
    "\n",
    "Xtr0_Xte0 = pd.concat([Xtr0, Xte0], ignore_index=True)\n",
    "Xtr1_Xte1 = pd.concat([Xtr1, Xte1], ignore_index=True)\n",
    "Xtr2_Xte2 = pd.concat([Xtr2, Xte2], ignore_index=True)\n",
    "\n",
    "# Load the labels\n",
    "Ytr0 = pd.read_csv('data/Ytr0.csv', index_col=0)\n",
    "Ytr1 = pd.read_csv('data/Ytr1.csv', index_col=0)\n",
    "Ytr2 = pd.read_csv('data/Ytr2.csv', index_col=0)\n",
    "# Convert the labels to -1, 1\n",
    "Ytr0 = 2*Ytr0['Bound'].values - 1\n",
    "Ytr1 = 2*Ytr1['Bound'].values - 1\n",
    "Ytr2 = 2*Ytr2['Bound'].values - 1"
   ]
  },
  {
   "cell_type": "code",
   "execution_count": null,
   "metadata": {},
   "outputs": [],
   "source": [
    "# Load the matrix representation of the sequences\n",
    "Xtr0_mat100 = pd.read_csv('data/Xtr0_mat100.csv', header=None, sep=' ').values\n",
    "Xtr1_mat100 = pd.read_csv('data/Xtr1_mat100.csv', header=None, sep=' ').values\n",
    "Xtr2_mat100 = pd.read_csv('data/Xtr2_mat100.csv', header=None, sep=' ').values\n",
    "Xte0_mat100 = pd.read_csv('data/Xte0_mat100.csv', header=None, sep=' ').values\n",
    "Xte1_mat100 = pd.read_csv('data/Xte1_mat100.csv', header=None, sep=' ').values\n",
    "Xte2_mat100 = pd.read_csv('data/Xte2_mat100.csv', header=None, sep=' ').values\n",
    "\n",
    "Xtr0_Xte0_mat100 = np.concatenate([Xtr0_mat100, Xte0_mat100], axis=0)\n",
    "Xtr1_Xte1_mat100 = np.concatenate([Xtr1_mat100, Xte1_mat100], axis=0)\n",
    "Xtr2_Xte2_mat100 = np.concatenate([Xtr2_mat100, Xte2_mat100], axis=0)"
   ]
  },
  {
   "cell_type": "markdown",
   "metadata": {},
   "source": [
    "# 2 - Compute Kernel Matrix"
   ]
  },
  {
   "cell_type": "code",
   "execution_count": null,
   "metadata": {},
   "outputs": [],
   "source": [
    "kernel = 'mismatch'\n",
    "\n",
    "#Gaussian Kernel - On the matrix representation of the sequences\n",
    "if kernel=='exp':\n",
    "    args = {'sigma': 1}\n",
    "#Smith-Waterman Local Alignment Score\n",
    "elif kernel=='sw':\n",
    "    args = {'sw': sm.SmithWaterman()}\n",
    "#Spectrum Kernel\n",
    "elif kernel=='spect':\n",
    "    args = {'k': 5}\n",
    "#Mismatch Kernel\n",
    "elif kernel=='mismatch':\n",
    "    args = {'k': 8, 'm': 2}\n",
    "#LA Kernel\n",
    "elif kernel=='LA':\n",
    "    args = {'beta': 0.5, 'd': 11, 'e': 1}\n",
    "elif kernel=='LA_gpu':\n",
    "    args = {'beta': 0.5, 'd': 1, 'e': 0.5}"
   ]
  },
  {
   "cell_type": "code",
   "execution_count": 4,
   "metadata": {},
   "outputs": [
    {
     "name": "stderr",
     "output_type": "stream",
     "text": [
      "Computing feature vectors: 100%|██████████| 3000/3000 [00:32<00:00, 92.54it/s] \n",
      "Collecting k-mers: 100%|██████████| 3000/3000 [01:49<00:00, 27.35it/s] \n",
      "Building sparse matrix entries: 100%|██████████| 3000/3000 [01:43<00:00, 28.85it/s]\n",
      "Computing feature vectors: 100%|██████████| 3000/3000 [00:19<00:00, 150.07it/s]\n",
      "Collecting k-mers: 100%|██████████| 3000/3000 [00:44<00:00, 66.89it/s] \n",
      "Building sparse matrix entries: 100%|██████████| 3000/3000 [01:46<00:00, 28.25it/s]\n",
      "Computing feature vectors: 100%|██████████| 3000/3000 [00:17<00:00, 166.76it/s]\n",
      "Collecting k-mers: 100%|██████████| 3000/3000 [00:41<00:00, 73.00it/s] \n",
      "Building sparse matrix entries: 100%|██████████| 3000/3000 [01:41<00:00, 29.70it/s]\n"
     ]
    }
   ],
   "source": [
    "#K_exp_0 = compute_kernel_matrix(Xtr0_mat100, Xtr0_mat100, kernel, **args)\n",
    "#K_exp_1 = compute_kernel_matrix(Xtr1_mat100, Xtr1_mat100, kernel, **args)\n",
    "#K_exp_2 = compute_kernel_matrix(Xtr2_mat100, Xtr2_mat100, kernel, **args)\n",
    "\n",
    "K_0 = compute_kernel_matrix(Xtr0_Xte0, Xtr0_Xte0, kernel, **args) + 1\n",
    "K_1 = compute_kernel_matrix(Xtr1_Xte1, Xtr1_Xte1, kernel, **args) + 1\n",
    "K_2 = compute_kernel_matrix(Xtr2_Xte2, Xtr2_Xte2, kernel, **args) + 1"
   ]
  },
  {
   "cell_type": "code",
   "execution_count": 17,
   "metadata": {},
   "outputs": [],
   "source": [
    "K_0 = np.load('features/K_0_mismatch_8-2.npy')\n",
    "K_1 = np.load('features/K_1_mismatch_8-2.npy')\n",
    "K_2 = np.load('features/K_2_mismatch_8-2.npy')"
   ]
  },
  {
   "cell_type": "code",
   "execution_count": null,
   "metadata": {},
   "outputs": [],
   "source": [
    "K_gaussian = gaussian_kernel(K_0, sigma=1)"
   ]
  },
  {
   "cell_type": "markdown",
   "metadata": {},
   "source": [
    "### 2.3 - Local Alignment Kernel  : <span style=\"color:green\">TODO / Time Complexity too high + value too high</span>"
   ]
  },
  {
   "cell_type": "markdown",
   "metadata": {},
   "source": [
    "The Local Alignment Kernel defined as:\n",
    "$$K_{LA}^{(\\beta)}(x,y) = \\sum_{\\pi\\in\\Pi(x,y)} s_{S,g}(\\pi)$$\n",
    "\n",
    "is symmetric positive definite.\n",
    "\n",
    "We assume an affine gap penalty:\n",
    "$$\\left\\{\\begin{aligned}\n",
    "&g(0) = 0 \\\\\n",
    "&g(n) = d + e(n-1) \\quad \\text{for } n>0\n",
    "\\end{aligned}\\right.$$\n",
    "\n",
    "where $l(\\pi)$ is the length of the alignment $\\pi$.\n",
    "\n",
    "We use the formula for the Local Alignment Kernel:\n",
    "$$K_{LA}^{(\\beta)}(x,y) = 1 + X_2(|x|,|y|)+ Y_2(|x|,|y|) + M(|x|,|y|)$$ \n",
    "where $X_2$, $Y_2$ and $M$ are defined recursively."
   ]
  },
  {
   "cell_type": "markdown",
   "metadata": {},
   "source": [
    "# 3 - Run Kernel Method on Train Data"
   ]
  },
  {
   "cell_type": "code",
   "execution_count": 90,
   "metadata": {},
   "outputs": [],
   "source": [
    "# Compute the eigenvalues of K_0\n",
    "eigenvalues, _ = np.linalg.eigh(K_gaussian)\n",
    "\n",
    "# Find the smallest eigenvalue\n",
    "min_eigenvalue = np.min(eigenvalues)\n",
    "\n",
    "# If the smallest eigenvalue is negative, adjust the diagonal\n",
    "if min_eigenvalue < 0:\n",
    "    K_gaussian += np.eye(K_gaussian.shape[0]) * (-min_eigenvalue)"
   ]
  },
  {
   "cell_type": "code",
   "execution_count": 20,
   "metadata": {},
   "outputs": [],
   "source": [
    "#Parameters\n",
    "solver=SVM_solver #quad_solver"
   ]
  },
  {
   "cell_type": "code",
   "execution_count": 33,
   "metadata": {},
   "outputs": [
    {
     "data": {
      "text/plain": [
       "(0.9611111111111111, 0.695)"
      ]
     },
     "execution_count": 33,
     "metadata": {},
     "output_type": "execute_result"
    }
   ],
   "source": [
    "#Method\n",
    "lambd = 1e-4\n",
    "method_0 = KernelMethod(K_0[:2000][:, :2000], Ytr0, solver=solver)\n",
    "method_0.lambd = lambd\n",
    "method_0.train_test_split(test_size=0.1)\n",
    "method_0.fit()\n",
    "method_0.evaluate()"
   ]
  },
  {
   "cell_type": "code",
   "execution_count": 32,
   "metadata": {},
   "outputs": [
    {
     "name": "stdout",
     "output_type": "stream",
     "text": [
      "Lambda: 0.0001, Accuracy: 0.64\n",
      "Lambda: 0.0001291549665014884, Accuracy: 0.61\n",
      "Lambda: 0.0001668100537200059, Accuracy: 0.62\n",
      "Lambda: 0.00021544346900318845, Accuracy: 0.61\n",
      "Lambda: 0.0002782559402207126, Accuracy: 0.63\n",
      "Lambda: 0.00035938136638046257, Accuracy: 0.63\n",
      "Lambda: 0.00046415888336127773, Accuracy: 0.60\n",
      "Lambda: 0.0005994842503189409, Accuracy: 0.62\n",
      "Lambda: 0.000774263682681127, Accuracy: 0.59\n",
      "Lambda: 0.001, Accuracy: 0.59\n"
     ]
    },
    {
     "data": {
      "text/plain": [
       "(0.0001, 63.800000000000004)"
      ]
     },
     "execution_count": 32,
     "metadata": {},
     "output_type": "execute_result"
    }
   ],
   "source": [
    "#Grid Search\n",
    "method_0.grid_search(np.logspace(-4, -3, 10), test_size=0.1)"
   ]
  },
  {
   "cell_type": "code",
   "execution_count": 34,
   "metadata": {},
   "outputs": [
    {
     "name": "stdout",
     "output_type": "stream",
     "text": [
      "Average Accuracy: 0.6265\n",
      "Min Accuracy: 0.57 Max Accuracy: 0.7\n"
     ]
    }
   ],
   "source": [
    "average_accuracy = method_0.validate(test_size=0.1, n_splits=10)"
   ]
  },
  {
   "cell_type": "code",
   "execution_count": 28,
   "metadata": {},
   "outputs": [
    {
     "data": {
      "text/plain": [
       "(0.98, 0.805)"
      ]
     },
     "execution_count": 28,
     "metadata": {},
     "output_type": "execute_result"
    }
   ],
   "source": [
    "lambd_1 = 1e-4\n",
    "\n",
    "method_1 = KernelMethod(K_1[:2000][:, :2000], Ytr1, lambd=lambd_1, solver=SVM_solver)\n",
    "method_1.train_test_split(test_size=0.1)\n",
    "method_1.fit()\n",
    "method_1.evaluate()"
   ]
  },
  {
   "cell_type": "code",
   "execution_count": null,
   "metadata": {},
   "outputs": [],
   "source": [
    "#Grid Search\n",
    "method_0.grid_search(np.logspace(-5, -4, 10))"
   ]
  },
  {
   "cell_type": "code",
   "execution_count": 29,
   "metadata": {},
   "outputs": [
    {
     "name": "stdout",
     "output_type": "stream",
     "text": [
      "Average Accuracy: 0.7335\n",
      "Min Accuracy: 0.69 Max Accuracy: 0.765\n"
     ]
    }
   ],
   "source": [
    "average_accuracy = method_1.validate(test_size=0.1, n_splits=10)"
   ]
  },
  {
   "cell_type": "code",
   "execution_count": 41,
   "metadata": {},
   "outputs": [
    {
     "data": {
      "text/plain": [
       "(0.9544444444444444, 0.725)"
      ]
     },
     "execution_count": 41,
     "metadata": {},
     "output_type": "execute_result"
    }
   ],
   "source": [
    "lambd_2 = 1.2e-4\n",
    "\n",
    "method_2 = KernelMethod(K_2[:2000][:, :2000], Ytr2, lambd=lambd_2, solver=SVM_solver)\n",
    "method_2.train_test_split(test_size=0.1)\n",
    "method_2.fit()\n",
    "method_2.evaluate()"
   ]
  },
  {
   "cell_type": "code",
   "execution_count": 36,
   "metadata": {},
   "outputs": [
    {
     "name": "stdout",
     "output_type": "stream",
     "text": [
      "Lambda: 1e-05, Accuracy: 0.66\n",
      "Lambda: 1.6681005372000593e-05, Accuracy: 0.65\n",
      "Lambda: 2.782559402207126e-05, Accuracy: 0.65\n",
      "Lambda: 4.641588833612782e-05, Accuracy: 0.67\n",
      "Lambda: 7.742636826811278e-05, Accuracy: 0.66\n",
      "Lambda: 0.0001291549665014884, Accuracy: 0.68\n",
      "Lambda: 0.00021544346900318823, Accuracy: 0.65\n",
      "Lambda: 0.00035938136638046257, Accuracy: 0.66\n",
      "Lambda: 0.0005994842503189409, Accuracy: 0.64\n",
      "Lambda: 0.001, Accuracy: 0.63\n"
     ]
    },
    {
     "data": {
      "text/plain": [
       "(0.0001291549665014884, 67.60000000000001)"
      ]
     },
     "execution_count": 36,
     "metadata": {},
     "output_type": "execute_result"
    }
   ],
   "source": [
    "#Grid Search\n",
    "method_2.grid_search(np.logspace(-5, -3, 10), test_size=0.1)"
   ]
  },
  {
   "cell_type": "code",
   "execution_count": 42,
   "metadata": {},
   "outputs": [
    {
     "name": "stdout",
     "output_type": "stream",
     "text": [
      "Average Accuracy: 0.6575000000000001\n",
      "Min Accuracy: 0.61 Max Accuracy: 0.71\n"
     ]
    }
   ],
   "source": [
    "average_accuracy = method_2.validate(test_size=0.1, n_splits=10)"
   ]
  },
  {
   "cell_type": "markdown",
   "metadata": {},
   "source": [
    "# 4 - Apply Kernel Predictor on Test Data"
   ]
  },
  {
   "cell_type": "code",
   "execution_count": 55,
   "metadata": {},
   "outputs": [],
   "source": [
    "def predict_test_labels(K, method):\n",
    "    K_te = K\n",
    "    alpha = method.alpha\n",
    "    # Predictions\n",
    "    Yte0 = np.sign(K_te @ alpha)\n",
    "    return Yte0"
   ]
  },
  {
   "cell_type": "code",
   "execution_count": 56,
   "metadata": {},
   "outputs": [],
   "source": [
    "Yte_file_name = 'Yte_mismatch_8-2.csv'\n",
    "\n",
    "Yte0 = predict_test_labels(K_0[2000:][:, method_0.train_indices], method_0)\n",
    "Yte1 = predict_test_labels(K_1[2000:][:,method_1.train_indices], method_1)\n",
    "Yte2 = predict_test_labels(K_2[2000:][:,method_2.train_indices], method_2)"
   ]
  },
  {
   "cell_type": "code",
   "execution_count": 57,
   "metadata": {},
   "outputs": [],
   "source": [
    "# Concatenate and add Id column\n",
    "Yte = np.concatenate([Yte0, Yte1, Yte2])\n",
    "Yte = pd.DataFrame(data=(Yte + 1) // 2, columns=['Bound'], dtype='int64')\n",
    "Yte.insert(0, 'Id', Yte.index)\n",
    "\n",
    "# Save the predictions\n",
    "Yte.to_csv(Yte_file_name, index=False)"
   ]
  }
 ],
 "metadata": {
  "kernelspec": {
   "display_name": "general_env",
   "language": "python",
   "name": "python3"
  },
  "language_info": {
   "codemirror_mode": {
    "name": "ipython",
    "version": 3
   },
   "file_extension": ".py",
   "mimetype": "text/x-python",
   "name": "python",
   "nbconvert_exporter": "python",
   "pygments_lexer": "ipython3",
   "version": "3.11.11"
  }
 },
 "nbformat": 4,
 "nbformat_minor": 2
}
