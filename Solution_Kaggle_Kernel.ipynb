{
 "cells": [
  {
   "cell_type": "code",
   "execution_count": 7,
   "metadata": {},
   "outputs": [],
   "source": [
    "import pandas as pd\n",
    "import numpy as np\n",
    "from tqdm import tqdm\n",
    "import py_stringmatching as sm"
   ]
  },
  {
   "cell_type": "markdown",
   "metadata": {},
   "source": [
    "# Solution Proposed"
   ]
  },
  {
   "cell_type": "markdown",
   "metadata": {},
   "source": [
    "## 1 - Load Data"
   ]
  },
  {
   "cell_type": "code",
   "execution_count": 2,
   "metadata": {},
   "outputs": [],
   "source": [
    "# Load the dataset\n",
    "Xtr0 = pd.read_csv('Xtr0.csv', index_col=0)\n",
    "Xtr1 = pd.read_csv('Xtr1.csv', index_col=0)\n",
    "Xtr2 = pd.read_csv('Xtr2.csv',  index_col=0)\n",
    "# Load the matrix representation of the sequences\n",
    "Xtr0_mat100 = pd.read_csv('Xtr0_mat100.csv', header=None, sep=' ').values\n",
    "Xtr1_mat100 = pd.read_csv('Xtr1_mat100.csv', header=None, sep=' ').values\n",
    "Xtr2_mat100 = pd.read_csv('Xtr2_mat100.csv', header=None, sep=' ').values\n",
    "# Load the labels\n",
    "Ytr0 = pd.read_csv('Ytr0.csv', index_col=0)\n",
    "Ytr1 = pd.read_csv('Ytr1.csv', index_col=0)\n",
    "Ytr2 = pd.read_csv('Ytr2.csv', index_col=0)\n",
    "# Convert the labels to -1, 1\n",
    "Ytr0 = 2*Ytr0['Bound'].values - 1\n",
    "Ytr1 = 2*Ytr1['Bound'].values - 1\n",
    "Ytr2 = 2*Ytr2['Bound'].values - 1"
   ]
  },
  {
   "cell_type": "markdown",
   "metadata": {},
   "source": [
    "## 2 - Compute Kernel Matrix"
   ]
  },
  {
   "cell_type": "markdown",
   "metadata": {},
   "source": [
    "### 2.1 - Gaussian Kernel"
   ]
  },
  {
   "cell_type": "code",
   "execution_count": 369,
   "metadata": {},
   "outputs": [],
   "source": [
    "# Define the kernel\n",
    "def lin_kernel(x, y):\n",
    "    return np.dot(x, y)\n",
    "\n",
    "def dist_kernel(x, y):\n",
    "    return np.linalg.norm(x-y)\n",
    "\n",
    "def exp_kernel(K_dist, sigma=1):\n",
    "    return np.exp(-K_dist**2/(2*sigma**2))"
   ]
  },
  {
   "cell_type": "code",
   "execution_count": 303,
   "metadata": {},
   "outputs": [
    {
     "name": "stderr",
     "output_type": "stream",
     "text": [
      "Computing K_dist0: 100%|██████████| 2000/2000 [00:10<00:00, 183.25it/s]\n",
      "Computing K_dist1: 100%|██████████| 2000/2000 [00:11<00:00, 174.51it/s]\n",
      "Computing K_dist2: 100%|██████████| 2000/2000 [00:11<00:00, 172.66it/s]\n"
     ]
    }
   ],
   "source": [
    "# Initialize the distance matrices\n",
    "K_dist0 = np.zeros((Xtr0_mat100.shape[0], Xtr0_mat100.shape[0]))\n",
    "K_dist1 = np.zeros((Xtr1_mat100.shape[0], Xtr1_mat100.shape[0]))\n",
    "K_dist2 = np.zeros((Xtr2_mat100.shape[0], Xtr2_mat100.shape[0]))\n",
    "\n",
    "# Compute the distance matrices\n",
    "for i in tqdm(range(Xtr0_mat100.shape[0]), desc=\"Computing K_dist0\"):\n",
    "    for j in range(Xtr0_mat100.shape[0]):\n",
    "        K_dist0[i, j] = dist_kernel(Xtr0_mat100[i], Xtr0_mat100[j])\n",
    "\n",
    "for i in tqdm(range(Xtr1_mat100.shape[0]), desc=\"Computing K_dist1\"):\n",
    "    for j in range(Xtr1_mat100.shape[0]):\n",
    "        K_dist1[i, j] = dist_kernel(Xtr1_mat100[i], Xtr1_mat100[j])\n",
    "\n",
    "for i in tqdm(range(Xtr2_mat100.shape[0]), desc=\"Computing K_dist2\"):\n",
    "    for j in range(Xtr2_mat100.shape[0]):\n",
    "        K_dist2[i, j] = dist_kernel(Xtr2_mat100[i], Xtr2_mat100[j])\n",
    "\n",
    "print(K_dist0.mean(), K_dist1.mean(), K_dist2.mean())\n",
    "print(K_dist0.std(), K_dist1.std(), K_dist2.std())"
   ]
  },
  {
   "cell_type": "code",
   "execution_count": 434,
   "metadata": {},
   "outputs": [
    {
     "name": "stdout",
     "output_type": "stream",
     "text": [
      "0.4083209343932956 0.4459201594477618 0.479113545922329\n",
      "0.10634323822742853 0.11167267153460386 0.17882876159660632\n"
     ]
    }
   ],
   "source": [
    "K_exp_tr0 = exp_kernel(K_dist0, sigma=0.12)\n",
    "K_exp_tr1 = exp_kernel(K_dist1, sigma=0.13)\n",
    "K_exp_tr2 = exp_kernel(K_dist2, sigma=0.15)\n",
    "\n",
    "print(K_exp_tr0.mean(), K_exp_tr1.mean(), K_exp_tr2.mean())\n",
    "print(K_exp_tr0.std(), K_exp_tr1.std(), K_exp_tr2.std())"
   ]
  },
  {
   "cell_type": "markdown",
   "metadata": {},
   "source": [
    "### 2.2 - Local Alignment Kernel"
   ]
  },
  {
   "cell_type": "markdown",
   "metadata": {},
   "source": [
    "Smith-Waterman Loacal Alignment Score  $SW$ becomes a Kernel if we take  $\\widetilde{SW} = SW -\\lambda_{min}(SW)I$"
   ]
  },
  {
   "cell_type": "code",
   "execution_count": 133,
   "metadata": {},
   "outputs": [],
   "source": [
    "sw = sm.SmithWaterman()"
   ]
  },
  {
   "cell_type": "code",
   "execution_count": null,
   "metadata": {},
   "outputs": [
    {
     "name": "stderr",
     "output_type": "stream",
     "text": [
      "Computing LAK_tr0:  50%|█████     | 1010/2000 [11:15<14:49,  1.11it/s]"
     ]
    }
   ],
   "source": [
    "SW_tr0 = np.zeros((Xtr0_mat100.shape[0], Xtr0_mat100.shape[0]))\n",
    "\n",
    "for i in tqdm(range(Xtr0_mat100.shape[0]), desc=\"Computing LAK_tr0\"):\n",
    "    for j in range(i, Xtr0_mat100.shape[0]):\n",
    "        SW_tr0[i, j] = sw.get_raw_score(Xtr0['seq'].iloc[i], Xtr0['seq'].iloc[j])\n",
    "        if i != j:\n",
    "            SW_tr0[j, i] = SW_tr0[i, j]\n",
    "\n",
    "SW_tr1 = np.zeros((Xtr1_mat100.shape[0], Xtr1_mat100.shape[0]))\n",
    "\n",
    "for i in tqdm(range(Xtr1_mat100.shape[0]), desc=\"Computing LAK_tr1\"):\n",
    "    for j in range(i, Xtr1_mat100.shape[0]):\n",
    "        SW_tr1[i, j] = sw.get_raw_score(Xtr1['seq'].iloc[i], Xtr1['seq'].iloc[j])\n",
    "        if i != j:\n",
    "            SW_tr1[j, i] = SW_tr1[i, j]\n",
    "\n",
    "SW_tr2 = np.zeros((Xtr2_mat100.shape[0], Xtr2_mat100.shape[0]))\n",
    "\n",
    "for i in tqdm(range(Xtr2_mat100.shape[0]), desc=\"Computing LAK_tr2\"):\n",
    "    for j in range(i, Xtr2_mat100.shape[0]):\n",
    "        SW_tr2[i, j] = sw.get_raw_score(Xtr2['seq'].iloc[i], Xtr2['seq'].iloc[j])\n",
    "        if i != j:\n",
    "            SW_tr2[j, i] = SW_tr2[i, j]\n",
    "\n",
    "print(SW_tr0.mean(), SW_tr1.mean(), SW_tr2.mean())\n",
    "print(SW_tr0.std(), SW_tr1.std(), SW_tr2.std())"
   ]
  },
  {
   "cell_type": "markdown",
   "metadata": {},
   "source": [
    "The Local Alignment Kernel defined as:\n",
    "$$K_{LA}^{(\\beta)}(x,y) = \\sum_{\\pi\\in\\Pi(x,y)} s_{S,g}(\\pi)$$\n",
    "\n",
    "is symmetric positive definite.\n",
    "\n",
    "We assume an affine gap penalty:\n",
    "$$\\left\\{\\begin{aligned}\n",
    "&g(0) = 0 \\\\\n",
    "&g(n) = d + e(n-1) \\quad \\text{for } n>0\n",
    "\\end{aligned}\\right.$$\n",
    "\n",
    "where $l(\\pi)$ is the length of the alignment $\\pi$."
   ]
  },
  {
   "cell_type": "code",
   "execution_count": 86,
   "metadata": {},
   "outputs": [],
   "source": [
    "# Define the similarity function S (example: identity function)\n",
    "def S(a, b):\n",
    "    return 1 if a == b else 0\n",
    "\n",
    "def LA_Kernel(x, y, beta, d, e):\n",
    "    # Lengths of the sequences\n",
    "    len_x = len(x)\n",
    "    len_y = len(y)\n",
    "    # Initialize matrices\n",
    "    M = np.zeros((len_x + 1, len_y + 1))\n",
    "    X = np.zeros((len_x + 1, len_y + 1))\n",
    "    Y = np.zeros((len_x + 1, len_y + 1))\n",
    "    X2 = np.zeros((len_x + 1, len_y + 1))\n",
    "    Y2 = np.zeros((len_x + 1, len_y + 1))\n",
    "    # Fill the matrices using the recursive equations\n",
    "    for i in range(1, len_x + 1):\n",
    "        for j in range(1, len_y + 1):\n",
    "            # Compute M(i,j)\n",
    "            M[i][j] = np.exp(beta * S(x[i-1], y[j-1])) * (1 + X[i-1][j-1] + Y[i-1][j-1] + M[i-1][j-1])\n",
    "            # Compute X(i,j)\n",
    "            X[i][j] = np.exp(beta * d) * M[i-1][j] + np.exp(beta * e) * X[i-1][j]            \n",
    "            # Compute Y(i,j)\n",
    "            Y[i][j] = np.exp(beta * d) * (M[i][j-1] + X[i][j-1]) + np.exp(beta * e) * Y[i][j-1]\n",
    "            # Compute X2(i,j)\n",
    "            X2[i][j] = M[i-1][j] + X2[i-1][j]            \n",
    "            # Compute Y2(i,j)\n",
    "            Y2[i][j] = M[i][j-1] + X2[i][j-1] + Y2[i][j-1]\n",
    "    # Compute the LA kernel\n",
    "    K_LA = 1 + X2[len_x][len_y] + Y2[len_x][len_y] + M[len_x][len_y]\n",
    "    return K_LA"
   ]
  },
  {
   "cell_type": "code",
   "execution_count": 113,
   "metadata": {},
   "outputs": [],
   "source": [
    "import numpy as np\n",
    "\n",
    "# Define the similarity function S (example: identity function)\n",
    "def S(a, b):\n",
    "    return 1 if a == b else 0\n",
    "\n",
    "def LA_Kernel_log(x, y, beta, d, e):\n",
    "    # Lengths of the sequences\n",
    "    len_x = len(x)\n",
    "    len_y = len(y)\n",
    "    \n",
    "    # Initialize matrices with -inf for log(0)\n",
    "    M = np.full((len_x + 1, len_y + 1), -np.inf)\n",
    "    X = np.full((len_x + 1, len_y + 1), -np.inf)\n",
    "    Y = np.full((len_x + 1, len_y + 1), -np.inf)\n",
    "    X2 = np.full((len_x + 1, len_y + 1), -np.inf)\n",
    "    Y2 = np.full((len_x + 1, len_y + 1), -np.inf)\n",
    "    \n",
    "    # Set log(1) = 0 at the origin\n",
    "    M[0][0] = 0\n",
    "    \n",
    "    # Precompute constants in log-space\n",
    "    log_exp_beta_d = beta * d\n",
    "    log_exp_beta_e = beta * e\n",
    "    \n",
    "    # Fill the matrices using the recursive equations in log-space\n",
    "    for i in range(1, len_x + 1):\n",
    "        for j in range(1, len_y + 1):\n",
    "            # Compute log(M[i][j])\n",
    "            log_sum_M = np.logaddexp(0, np.logaddexp(X[i-1][j-1], np.logaddexp(Y[i-1][j-1], M[i-1][j-1])))\n",
    "            M[i][j] = beta * S(x[i-1], y[j-1]) + log_sum_M\n",
    "            \n",
    "            # Compute log(X[i][j])\n",
    "            log_X1 = log_exp_beta_d + M[i-1][j]\n",
    "            log_X2 = log_exp_beta_e + X[i-1][j]\n",
    "            X[i][j] = np.logaddexp(log_X1, log_X2)\n",
    "            \n",
    "            # Compute log(Y[i][j])\n",
    "            log_Y1 = log_exp_beta_d + np.logaddexp(M[i][j-1], X[i][j-1])\n",
    "            log_Y2 = log_exp_beta_e + Y[i][j-1]\n",
    "            Y[i][j] = np.logaddexp(log_Y1, log_Y2)\n",
    "            \n",
    "            # Compute log(X2[i][j])\n",
    "            X2[i][j] = np.logaddexp(M[i-1][j], X2[i-1][j])\n",
    "            \n",
    "            # Compute log(Y2[i][j])\n",
    "            Y2[i][j] = np.logaddexp(M[i][j-1], np.logaddexp(X2[i][j-1], Y2[i][j-1]))\n",
    "    \n",
    "    # Compute the LA kernel in log-space\n",
    "    K_LA_log = np.logaddexp(0, np.logaddexp(X2[len_x][len_y], np.logaddexp(Y2[len_x][len_y], M[len_x][len_y])))\n",
    "    \n",
    "    # Return the kernel value in the original space\n",
    "    return np.exp(K_LA_log)"
   ]
  },
  {
   "cell_type": "code",
   "execution_count": 107,
   "metadata": {},
   "outputs": [
    {
     "name": "stdout",
     "output_type": "stream",
     "text": [
      "LA Kernel K_LA: 493229220810520924057373202121228288.00\n"
     ]
    }
   ],
   "source": [
    "# Example usage:\n",
    "# Define sequences and parameters\n",
    "x = \"AGTAC\"*10\n",
    "y = \"AGTAC\"*10\n",
    "beta = .05\n",
    "d = 11.0\n",
    "e = 1.0\n",
    "\n",
    "# Compute matrices and LA kernel\n",
    "K_LA = LA_Kernel(x, y, beta, d, e)\n",
    "\n",
    "print(f\"LA Kernel K_LA: {K_LA:.2f}\")"
   ]
  },
  {
   "cell_type": "code",
   "execution_count": null,
   "metadata": {},
   "outputs": [
    {
     "name": "stderr",
     "output_type": "stream",
     "text": [
      "Row 0 progress:   2%|▏         | 49/2000 [00:03<02:06, 15.37it/s]\n"
     ]
    },
    {
     "ename": "KeyboardInterrupt",
     "evalue": "",
     "output_type": "error",
     "traceback": [
      "\u001b[1;31m---------------------------------------------------------------------------\u001b[0m",
      "\u001b[1;31mKeyboardInterrupt\u001b[0m                         Traceback (most recent call last)",
      "Cell \u001b[1;32mIn[115], line 5\u001b[0m\n\u001b[0;32m      3\u001b[0m \u001b[38;5;28;01mfor\u001b[39;00m i \u001b[38;5;129;01min\u001b[39;00m \u001b[38;5;28mrange\u001b[39m(Xtr0_mat100\u001b[38;5;241m.\u001b[39mshape[\u001b[38;5;241m0\u001b[39m]):\n\u001b[0;32m      4\u001b[0m     \u001b[38;5;28;01mfor\u001b[39;00m j \u001b[38;5;129;01min\u001b[39;00m tqdm(\u001b[38;5;28mrange\u001b[39m(Xtr0_mat100\u001b[38;5;241m.\u001b[39mshape[\u001b[38;5;241m0\u001b[39m]), desc\u001b[38;5;241m=\u001b[39m\u001b[38;5;124mf\u001b[39m\u001b[38;5;124m\"\u001b[39m\u001b[38;5;124mRow \u001b[39m\u001b[38;5;132;01m{\u001b[39;00mi\u001b[38;5;132;01m}\u001b[39;00m\u001b[38;5;124m progress\u001b[39m\u001b[38;5;124m\"\u001b[39m):\n\u001b[1;32m----> 5\u001b[0m         LA_tr0[i, j] \u001b[38;5;241m=\u001b[39m np\u001b[38;5;241m.\u001b[39mlog(\u001b[43mLA_Kernel\u001b[49m\u001b[43m(\u001b[49m\u001b[43mXtr0\u001b[49m\u001b[43m[\u001b[49m\u001b[38;5;124;43m'\u001b[39;49m\u001b[38;5;124;43mseq\u001b[39;49m\u001b[38;5;124;43m'\u001b[39;49m\u001b[43m]\u001b[49m\u001b[43m[\u001b[49m\u001b[43mi\u001b[49m\u001b[43m]\u001b[49m\u001b[43m,\u001b[49m\u001b[43m \u001b[49m\u001b[43mXtr0\u001b[49m\u001b[43m[\u001b[49m\u001b[38;5;124;43m'\u001b[39;49m\u001b[38;5;124;43mseq\u001b[39;49m\u001b[38;5;124;43m'\u001b[39;49m\u001b[43m]\u001b[49m\u001b[43m[\u001b[49m\u001b[43mj\u001b[49m\u001b[43m]\u001b[49m\u001b[43m,\u001b[49m\u001b[43m \u001b[49m\u001b[43mbeta\u001b[49m\u001b[43m,\u001b[49m\u001b[43m \u001b[49m\u001b[43md\u001b[49m\u001b[43m,\u001b[49m\u001b[43m \u001b[49m\u001b[43me\u001b[49m\u001b[43m)\u001b[49m)\u001b[38;5;241m/\u001b[39mbeta\n",
      "Cell \u001b[1;32mIn[86], line 21\u001b[0m, in \u001b[0;36mLA_Kernel\u001b[1;34m(x, y, beta, d, e)\u001b[0m\n\u001b[0;32m     19\u001b[0m M[i][j] \u001b[38;5;241m=\u001b[39m np\u001b[38;5;241m.\u001b[39mexp(beta \u001b[38;5;241m*\u001b[39m S(x[i\u001b[38;5;241m-\u001b[39m\u001b[38;5;241m1\u001b[39m], y[j\u001b[38;5;241m-\u001b[39m\u001b[38;5;241m1\u001b[39m])) \u001b[38;5;241m*\u001b[39m (\u001b[38;5;241m1\u001b[39m \u001b[38;5;241m+\u001b[39m X[i\u001b[38;5;241m-\u001b[39m\u001b[38;5;241m1\u001b[39m][j\u001b[38;5;241m-\u001b[39m\u001b[38;5;241m1\u001b[39m] \u001b[38;5;241m+\u001b[39m Y[i\u001b[38;5;241m-\u001b[39m\u001b[38;5;241m1\u001b[39m][j\u001b[38;5;241m-\u001b[39m\u001b[38;5;241m1\u001b[39m] \u001b[38;5;241m+\u001b[39m M[i\u001b[38;5;241m-\u001b[39m\u001b[38;5;241m1\u001b[39m][j\u001b[38;5;241m-\u001b[39m\u001b[38;5;241m1\u001b[39m])\n\u001b[0;32m     20\u001b[0m \u001b[38;5;66;03m# Compute X(i,j)\u001b[39;00m\n\u001b[1;32m---> 21\u001b[0m X[i][j] \u001b[38;5;241m=\u001b[39m np\u001b[38;5;241m.\u001b[39mexp(beta \u001b[38;5;241m*\u001b[39m d) \u001b[38;5;241m*\u001b[39m M[i\u001b[38;5;241m-\u001b[39m\u001b[38;5;241m1\u001b[39m][j] \u001b[38;5;241m+\u001b[39m \u001b[43mnp\u001b[49m\u001b[38;5;241;43m.\u001b[39;49m\u001b[43mexp\u001b[49m\u001b[43m(\u001b[49m\u001b[43mbeta\u001b[49m\u001b[43m \u001b[49m\u001b[38;5;241;43m*\u001b[39;49m\u001b[43m \u001b[49m\u001b[43me\u001b[49m\u001b[43m)\u001b[49m \u001b[38;5;241m*\u001b[39m X[i\u001b[38;5;241m-\u001b[39m\u001b[38;5;241m1\u001b[39m][j]            \n\u001b[0;32m     22\u001b[0m \u001b[38;5;66;03m# Compute Y(i,j)\u001b[39;00m\n\u001b[0;32m     23\u001b[0m Y[i][j] \u001b[38;5;241m=\u001b[39m np\u001b[38;5;241m.\u001b[39mexp(beta \u001b[38;5;241m*\u001b[39m d) \u001b[38;5;241m*\u001b[39m (M[i][j\u001b[38;5;241m-\u001b[39m\u001b[38;5;241m1\u001b[39m] \u001b[38;5;241m+\u001b[39m X[i][j\u001b[38;5;241m-\u001b[39m\u001b[38;5;241m1\u001b[39m]) \u001b[38;5;241m+\u001b[39m np\u001b[38;5;241m.\u001b[39mexp(beta \u001b[38;5;241m*\u001b[39m e) \u001b[38;5;241m*\u001b[39m Y[i][j\u001b[38;5;241m-\u001b[39m\u001b[38;5;241m1\u001b[39m]\n",
      "\u001b[1;31mKeyboardInterrupt\u001b[0m: "
     ]
    }
   ],
   "source": [
    "LA_tr0 = np.zeros((Xtr0_mat100.shape[0], Xtr0_mat100.shape[0]))\n",
    "\n",
    "for i in tqdm(range(Xtr0_mat100.shape[0]), desc=\"Computing LA_tr0\"):\n",
    "    for j in range(i, Xtr0_mat100.shape[0]):\n",
    "        LA_tr0[i, j] = np.log(LA_Kernel(Xtr0['seq'][i], Xtr0['seq'][j], beta, d, e)) / beta\n",
    "        if i != j:\n",
    "            LA_tr0[j, i] = LA_tr0[i, j]"
   ]
  },
  {
   "cell_type": "markdown",
   "metadata": {},
   "source": [
    "## 3 - Optimizer Function"
   ]
  },
  {
   "cell_type": "code",
   "execution_count": 44,
   "metadata": {},
   "outputs": [],
   "source": [
    "# Define the loss function using the precomputed kernel matrix K\n",
    "def loss(Y, m_t, alpha, lambd):\n",
    "    n = Y.shape[0]\n",
    "    loss = np.sum(np.log(1 + np.exp(-Y * m_t)))\n",
    "    return lambd * np.dot(alpha, m_t) / 2 + loss / n\n",
    "\n",
    "# Define the sigmoid function\n",
    "def sigmoid(u):\n",
    "    return 1/(1 + np.exp(-u))\n",
    "\n",
    "def W_func(Y, m_t):\n",
    "    n = Y.shape[0]\n",
    "    W = np.zeros(n)\n",
    "    W = sigmoid(m_t) * sigmoid(-m_t)\n",
    "    return np.diag(W)\n",
    "\n",
    "def P_func(Y, m_t):\n",
    "    n = Y.shape[0]\n",
    "    P = -sigmoid(-Y * m_t)\n",
    "    return np.diag(P)\n",
    "\n",
    "def z_func(Y, m_t):\n",
    "    return m_t + Y / sigmoid(Y * m_t)\n",
    "\n",
    "def quadratic_loss(K, Y, alpha_t, lambd, alpha):\n",
    "    n = K.shape[0]\n",
    "    m_t = np.dot(K, alpha_t)\n",
    "    W = W_func(Y, m_t)\n",
    "    P = P_func(Y, m_t)\n",
    "    z = z_func(Y, m_t)\n",
    "    return lambd * np.dot(alpha, np.dot(K, alpha)) + (K @ alpha - z).T @ W @ (K @ alpha - z) / n"
   ]
  },
  {
   "cell_type": "code",
   "execution_count": 50,
   "metadata": {},
   "outputs": [],
   "source": [
    "# Solve KLR by IRLS on the quadratic loss\n",
    "def IRLS(K, Y, alpha_0, lambd, tol=1e-6, max_iter=100, Y_test=None, K_test=None):\n",
    "    n = K.shape[0]\n",
    "    alpha_t = alpha_0.copy()\n",
    "    criterion = np.inf\n",
    "    for i in tqdm(range(max_iter), desc=\"IRLS Progress\"):\n",
    "        m_t = np.dot(K, alpha_t)\n",
    "        accuracy = np.mean(np.sign(m_t) == Y)\n",
    "        if Y_test is not None and K_test is not None:\n",
    "            test_accuracy = np.mean(np.sign(np.dot(K_test, alpha_t)) == Y_test)\n",
    "            print(f\"Iteration {i}: Loss - {loss(Y, m_t, alpha_t, lambd):.3f}, Convergence Criterion - : {criterion}, \\n Train Accuracy - {accuracy:.2f}, Test Accuracy - {test_accuracy}\")\n",
    "        else:\n",
    "            print(f\"Iteration {i}: Loss - {loss(Y, m_t, alpha_t, lambd):.3f}, Convergence Criterion - : {criterion}, Train Accuracy - {accuracy}\")\n",
    "        W_t = W_func(Y, m_t)\n",
    "        z_t = z_func(Y, m_t)\n",
    "        W_t_sqrt = np.sqrt(W_t)\n",
    "        A = (W_t_sqrt @ K @ W_t_sqrt + lambd * n * np.eye(n)) @ np.diag(1 / np.diag(W_t_sqrt))\n",
    "        B = W_t_sqrt @ z_t\n",
    "        alpha_new = np.linalg.solve(A, B)\n",
    "        criterion = np.linalg.norm(alpha_new - alpha_t)\n",
    "        if criterion < tol:\n",
    "            accuracy = np.mean(np.sign(np.dot(K, alpha_new)) == Y)\n",
    "            if Y_test is not None and K_test is not None:\n",
    "                test_accuracy = np.mean(np.sign(np.dot(K_test, alpha_new)) == Y_test)\n",
    "                print(f\"END : Iteration {i}: Loss - {loss(Y, m_t, alpha_t, lambd):.3f}, Convergence Criterion - : {criterion}, \\n Train Accuracy - {accuracy:.2f}, Test Accuracy - {test_accuracy}\")\n",
    "            else:\n",
    "                print(f\"END : Iteration {i}: Loss - {loss(Y, m_t, alpha_t, lambd):.3f}, Convergence Criterion - : {criterion}, Train Accuracy - {accuracy}\")\n",
    "            break\n",
    "        alpha_t = alpha_new\n",
    "    return alpha_t"
   ]
  },
  {
   "cell_type": "markdown",
   "metadata": {},
   "source": [
    "## 4 - Train & Test Model"
   ]
  },
  {
   "cell_type": "code",
   "execution_count": 73,
   "metadata": {},
   "outputs": [],
   "source": [
    "SW_tr0 = np.load('SW_tr0.npy')\n",
    "# If the smallest eigenvalue is negative, shift the matrix to make it positive definite\n",
    "eigenvalues, _ = np.linalg.eigh(SW_tr0)\n",
    "min_eigenvalue = np.min(eigenvalues)\n",
    "if min_eigenvalue < 0:\n",
    "    SW_tr0 += np.eye(SW_tr0.shape[0]) * (-min_eigenvalue + 1e-6)"
   ]
  },
  {
   "cell_type": "code",
   "execution_count": null,
   "metadata": {},
   "outputs": [],
   "source": [
    "n_train = 1600\n",
    "\n",
    "def split_kernel_matrix(K_exp, n_train):\n",
    "    K_train = K_exp[:n_train, :n_train]\n",
    "    K_test = K_exp[n_train:, :n_train]\n",
    "    return K_train, K_test\n",
    "\n",
    "# Split the datasets into training and testing sets\n",
    "K_tr0_tain, K_tr0_test = split_kernel_matrix(SW_tr0, n_train)\n",
    "K_tr1_train, K_tr1_test = split_kernel_matrix(SW_tr1, n_train)\n",
    "K_tr2_train, K_tr2_test = split_kernel_matrix(SW_tr2, n_train)\n",
    "\n",
    "Ytr0_train, Ytr0_test = Ytr0[:n_train], Ytr0[n_train:]\n",
    "Ytr1_train, Ytr1_test = Ytr1[:n_train], Ytr1[n_train:]\n",
    "Ytr2_train, Ytr2_test = Ytr2[:n_train], Ytr2[n_train:]"
   ]
  },
  {
   "cell_type": "code",
   "execution_count": null,
   "metadata": {},
   "outputs": [
    {
     "name": "stderr",
     "output_type": "stream",
     "text": [
      "IRLS Progress:   0%|          | 0/10 [00:00<?, ?it/s]"
     ]
    },
    {
     "name": "stdout",
     "output_type": "stream",
     "text": [
      "Iteration 0: Loss - 0.693, Convergence Criterion - : inf, \n",
      " Train Accuracy - 0.00, Test Accuracy - 0.0\n"
     ]
    },
    {
     "name": "stderr",
     "output_type": "stream",
     "text": [
      "IRLS Progress:  10%|█         | 1/10 [00:01<00:15,  1.67s/it]"
     ]
    },
    {
     "name": "stdout",
     "output_type": "stream",
     "text": [
      "Iteration 1: Loss - 0.658, Convergence Criterion - : 0.11753946248495575, \n",
      " Train Accuracy - 0.69, Test Accuracy - 0.585\n"
     ]
    },
    {
     "name": "stderr",
     "output_type": "stream",
     "text": [
      "IRLS Progress:  20%|██        | 2/10 [00:05<00:24,  3.03s/it]"
     ]
    },
    {
     "name": "stdout",
     "output_type": "stream",
     "text": [
      "Iteration 2: Loss - 0.658, Convergence Criterion - : 0.0004802193847646569, \n",
      " Train Accuracy - 0.69, Test Accuracy - 0.5875\n"
     ]
    },
    {
     "name": "stderr",
     "output_type": "stream",
     "text": [
      "IRLS Progress:  20%|██        | 2/10 [00:08<00:34,  4.31s/it]"
     ]
    },
    {
     "name": "stdout",
     "output_type": "stream",
     "text": [
      "END : Iteration 2: Loss - 0.658, Convergence Criterion - : 4.6153682957069054e-07, \n",
      " Train Accuracy - 0.69, Test Accuracy - 0.5875\n",
      "Alpha norm : 0.12\n"
     ]
    },
    {
     "name": "stderr",
     "output_type": "stream",
     "text": [
      "\n"
     ]
    }
   ],
   "source": [
    "lambd_0 = 0.1\n",
    "alpha_0_0 = np.zeros(K_tr0_tain.shape[0])\n",
    "# Run the IRLS algorithm with the new initialization for the first dataset\n",
    "alpha_0_0 = IRLS(K_tr0_tain, Ytr0_train, alpha_0_0, lambd_0, \n",
    "                 tol=1e-5, max_iter=10, \n",
    "                 Y_test=Ytr0_test, K_test=K_tr0_test)\n",
    "print(f'Alpha norm : {np.linalg.norm(alpha_0_0):.2f}')"
   ]
  },
  {
   "cell_type": "code",
   "execution_count": 420,
   "metadata": {},
   "outputs": [
    {
     "name": "stderr",
     "output_type": "stream",
     "text": [
      "IRLS Progress:   0%|          | 0/10 [00:00<?, ?it/s]"
     ]
    },
    {
     "name": "stdout",
     "output_type": "stream",
     "text": [
      "Iteration 0: Loss - 0.1848392481493187, Convergence Criterion - : inf, \n",
      " Train Accuracy - 0.0, Test Accuracy - 0.0\n"
     ]
    },
    {
     "name": "stderr",
     "output_type": "stream",
     "text": [
      "IRLS Progress:  10%|█         | 1/10 [00:01<00:14,  1.63s/it]"
     ]
    },
    {
     "name": "stdout",
     "output_type": "stream",
     "text": [
      "Iteration 1: Loss - 0.19274529091606862, Convergence Criterion - : 90.55132484007582, \n",
      " Train Accuracy - 0.878125, Test Accuracy - 0.63\n"
     ]
    },
    {
     "name": "stderr",
     "output_type": "stream",
     "text": [
      "IRLS Progress:  20%|██        | 2/10 [00:03<00:14,  1.76s/it]"
     ]
    },
    {
     "name": "stdout",
     "output_type": "stream",
     "text": [
      "Iteration 2: Loss - 0.19692753698101317, Convergence Criterion - : 4.065552814129287, \n",
      " Train Accuracy - 0.86125, Test Accuracy - 0.6225\n"
     ]
    },
    {
     "name": "stderr",
     "output_type": "stream",
     "text": [
      "IRLS Progress:  30%|███       | 3/10 [00:07<00:20,  2.89s/it]"
     ]
    },
    {
     "name": "stdout",
     "output_type": "stream",
     "text": [
      "Iteration 3: Loss - 0.19709953036609476, Convergence Criterion - : 0.19142091382917892, \n",
      " Train Accuracy - 0.86, Test Accuracy - 0.6225\n"
     ]
    },
    {
     "name": "stderr",
     "output_type": "stream",
     "text": [
      "IRLS Progress:  40%|████      | 4/10 [00:11<00:20,  3.42s/it]"
     ]
    },
    {
     "name": "stdout",
     "output_type": "stream",
     "text": [
      "Iteration 4: Loss - 0.19709988098664294, Convergence Criterion - : 0.0004643480766235943, \n",
      " Train Accuracy - 0.86, Test Accuracy - 0.6225\n"
     ]
    },
    {
     "name": "stderr",
     "output_type": "stream",
     "text": [
      "IRLS Progress:  40%|████      | 4/10 [00:16<00:24,  4.04s/it]"
     ]
    },
    {
     "name": "stdout",
     "output_type": "stream",
     "text": [
      "END : Iteration 4: Loss - 0.19709988098664294, Convergence Criterion - : 3.5436569159146845e-09, \n",
      " Train Accuracy - 0.86, Test Accuracy - 0.6225\n"
     ]
    },
    {
     "name": "stderr",
     "output_type": "stream",
     "text": [
      "\n"
     ]
    }
   ],
   "source": [
    "lambd_1 = 0.0001\n",
    "alpha_0_1 = np.zeros(K_exp_tr1_train.shape[0])\n",
    "# Run the IRLS algorithm with the new initialization for the second dataset\n",
    "alpha_0_1 = IRLS(K_exp_tr1_train, Ytr1_train, alpha_0_1, lambd_1, \n",
    "                 tol=1e-5, max_iter=10, \n",
    "                 Y_test=Ytr1_test, K_test=K_exp_tr1_test)"
   ]
  },
  {
   "cell_type": "code",
   "execution_count": 421,
   "metadata": {},
   "outputs": [
    {
     "name": "stderr",
     "output_type": "stream",
     "text": [
      "IRLS Progress:   0%|          | 0/10 [00:00<?, ?it/s]"
     ]
    },
    {
     "name": "stdout",
     "output_type": "stream",
     "text": [
      "Iteration 0: Loss - 0.1848392481493187, Convergence Criterion - : inf, \n",
      " Train Accuracy - 0.0, Test Accuracy - 0.0\n"
     ]
    },
    {
     "name": "stderr",
     "output_type": "stream",
     "text": [
      "IRLS Progress:  10%|█         | 1/10 [00:02<00:19,  2.14s/it]"
     ]
    },
    {
     "name": "stdout",
     "output_type": "stream",
     "text": [
      "Iteration 1: Loss - 0.18402103376220147, Convergence Criterion - : 11.40854893028931, \n",
      " Train Accuracy - 0.68125, Test Accuracy - 0.6275\n"
     ]
    },
    {
     "name": "stderr",
     "output_type": "stream",
     "text": [
      "IRLS Progress:  20%|██        | 2/10 [00:05<00:21,  2.63s/it]"
     ]
    },
    {
     "name": "stdout",
     "output_type": "stream",
     "text": [
      "Iteration 2: Loss - 0.18539999150255215, Convergence Criterion - : 0.18472419243004481, \n",
      " Train Accuracy - 0.683125, Test Accuracy - 0.64\n"
     ]
    },
    {
     "name": "stderr",
     "output_type": "stream",
     "text": [
      "IRLS Progress:  30%|███       | 3/10 [00:09<00:23,  3.30s/it]"
     ]
    },
    {
     "name": "stdout",
     "output_type": "stream",
     "text": [
      "Iteration 3: Loss - 0.1855452987762537, Convergence Criterion - : 0.019180073683026006, \n",
      " Train Accuracy - 0.683125, Test Accuracy - 0.64\n"
     ]
    },
    {
     "name": "stderr",
     "output_type": "stream",
     "text": [
      "IRLS Progress:  40%|████      | 4/10 [00:14<00:23,  3.97s/it]"
     ]
    },
    {
     "name": "stdout",
     "output_type": "stream",
     "text": [
      "Iteration 4: Loss - 0.18554706682864164, Convergence Criterion - : 0.0002464729987810541, \n",
      " Train Accuracy - 0.683125, Test Accuracy - 0.64\n"
     ]
    },
    {
     "name": "stderr",
     "output_type": "stream",
     "text": [
      "IRLS Progress:  40%|████      | 4/10 [00:18<00:27,  4.54s/it]"
     ]
    },
    {
     "name": "stdout",
     "output_type": "stream",
     "text": [
      "END : Iteration 4: Loss - 0.18554706682864164, Convergence Criterion - : 3.99055653608917e-08, \n",
      " Train Accuracy - 0.683125, Test Accuracy - 0.64\n"
     ]
    },
    {
     "name": "stderr",
     "output_type": "stream",
     "text": [
      "\n"
     ]
    }
   ],
   "source": [
    "lambd_2 = 0.001\n",
    "alpha_0_2 = np.zeros(K_exp_tr2_train.shape[0])\n",
    "# Run the IRLS algorithm with the new initialization for the third dataset\n",
    "alpha_0_2 = IRLS(K_exp_tr2_train, Ytr2_train, alpha_0_2, lambd_2, \n",
    "                 tol=1e-5, max_iter=10, \n",
    "                 Y_test=Ytr2_test, K_test=K_exp_tr2_test)"
   ]
  },
  {
   "cell_type": "code",
   "execution_count": 457,
   "metadata": {},
   "outputs": [
    {
     "name": "stdout",
     "output_type": "stream",
     "text": [
      "-----First dataset-----\n",
      "Train Accuracy: 87.44%\n",
      "Test Accuracy: 58.75%\n",
      "Alpha's norm: 94.13\n",
      "-----Second dataset-----\n",
      "Train Accuracy: 86.00%\n",
      "Test Accuracy: 62.25%\n",
      "Alpha's norm: 91.84\n",
      "-----Third dataset-----\n",
      "Train Accuracy: 68.31%\n",
      "Test Accuracy: 64.00%\n",
      "Alpha's norm: 11.43\n",
      "Mean accuracy: 61.67%\n"
     ]
    }
   ],
   "source": [
    "def calculate_accuracy(K_train, K_test, Y_train, Y_test, alpha):\n",
    "    train_predictions = np.sign(K_train @ alpha)\n",
    "    train_accuracy = np.mean(train_predictions == Y_train) * 100\n",
    "    print(f\"Train Accuracy: {train_accuracy:.2f}%\")\n",
    "\n",
    "    test_predictions = np.sign(K_test @ alpha)\n",
    "    test_accuracy = np.mean(test_predictions == Y_test) * 100\n",
    "    print(f\"Test Accuracy: {test_accuracy:.2f}%\")\n",
    "\n",
    "    print(f\"Alpha's norm: {np.linalg.norm(alpha):.2f}\")\n",
    "    return train_accuracy, test_accuracy\n",
    "\n",
    "# Calculate accuracy for the first dataset\n",
    "print(\"-----First dataset-----\")\n",
    "_, a0 = calculate_accuracy(K_exp_tr0_train, K_exp_tr0_test, Ytr0_train, Ytr0_test, alpha_0_0)\n",
    "# Calculate accuracy for the second dataset\n",
    "print(\"-----Second dataset-----\")\n",
    "_, a1 = calculate_accuracy(K_exp_tr1_train, K_exp_tr1_test, Ytr1_train, Ytr1_test, alpha_0_1)\n",
    "# Calculate accuracy for the third dataset\n",
    "print(\"-----Third dataset-----\")\n",
    "_, a2 = calculate_accuracy(K_exp_tr2_train, K_exp_tr2_test, Ytr2_train, Ytr2_test, alpha_0_2)\n",
    "\n",
    "# Mean accuracy\n",
    "mean_accuracy = (a0 + a1 + a2) / 3\n",
    "print(f\"Mean accuracy: {mean_accuracy:.2f}%\")"
   ]
  },
  {
   "cell_type": "markdown",
   "metadata": {},
   "source": [
    "## Evaluate on Test Set"
   ]
  },
  {
   "cell_type": "code",
   "execution_count": 431,
   "metadata": {},
   "outputs": [],
   "source": [
    "# Load the matrix representation of the sequences\n",
    "Xte0_mat100 = pd.read_csv('Xte0_mat100.csv', header=None, sep=' ').values\n",
    "Xte1_mat100 = pd.read_csv('Xte1_mat100.csv', header=None, sep=' ').values\n",
    "Xte2_mat100 = pd.read_csv('Xte2_mat100.csv', header=None, sep=' ').values"
   ]
  },
  {
   "cell_type": "code",
   "execution_count": 435,
   "metadata": {},
   "outputs": [
    {
     "name": "stderr",
     "output_type": "stream",
     "text": [
      "Computing K_dist_te0: 100%|██████████| 1000/1000 [00:04<00:00, 228.51it/s]\n",
      "Computing K_dist_te1: 100%|██████████| 1000/1000 [00:04<00:00, 226.61it/s]\n",
      "Computing K_dist_te2: 100%|██████████| 1000/1000 [00:04<00:00, 221.37it/s]"
     ]
    },
    {
     "name": "stdout",
     "output_type": "stream",
     "text": [
      "0.16318112129091467 0.1667362036036887 0.1911287852576293\n",
      "0.02754851287049635 0.03005545310859116 0.06623979367512123\n"
     ]
    },
    {
     "name": "stderr",
     "output_type": "stream",
     "text": [
      "\n"
     ]
    }
   ],
   "source": [
    "# Initialize the distance matrices for test data\n",
    "K_dist_te0 = np.zeros((Xte0_mat100.shape[0], n_train))\n",
    "K_dist_te1 = np.zeros((Xte1_mat100.shape[0], n_train))\n",
    "K_dist_te2 = np.zeros((Xte2_mat100.shape[0], n_train))\n",
    "\n",
    "# Compute the distance matrices for test data\n",
    "for i in tqdm(range(Xte0_mat100.shape[0]), desc=\"Computing K_dist_te0\"):\n",
    "    for j in range(n_train):\n",
    "        K_dist_te0[i, j] = dist_kernel(Xte0_mat100[i], Xtr0_mat100[j])\n",
    "\n",
    "for i in tqdm(range(Xte1_mat100.shape[0]), desc=\"Computing K_dist_te1\"):\n",
    "    for j in range(n_train):\n",
    "        K_dist_te1[i, j] = dist_kernel(Xte1_mat100[i], Xtr1_mat100[j])\n",
    "\n",
    "for i in tqdm(range(Xte2_mat100.shape[0]), desc=\"Computing K_dist_te2\"):\n",
    "    for j in range(n_train):\n",
    "        K_dist_te2[i, j] = dist_kernel(Xte2_mat100[i], Xtr2_mat100[j])\n",
    "\n",
    "print(K_dist_te0.mean(), K_dist_te1.mean(), K_dist_te2.mean())\n",
    "print(K_dist_te0.std(), K_dist_te1.std(), K_dist_te2.std())"
   ]
  },
  {
   "cell_type": "code",
   "execution_count": 436,
   "metadata": {},
   "outputs": [
    {
     "name": "stdout",
     "output_type": "stream",
     "text": [
      "0.40591689794208635 0.4479003039324682 0.4761975265751476\n",
      "0.10760827434663765 0.11088148276263982 0.18260396395836956\n"
     ]
    }
   ],
   "source": [
    "K_exp_te0 = exp_kernel(K_dist_te0, sigma=0.12)\n",
    "K_exp_te1 = exp_kernel(K_dist_te1, sigma=0.13)\n",
    "K_exp_te2 = exp_kernel(K_dist_te2, sigma=0.15)\n",
    "\n",
    "print(K_exp_te0.mean(), K_exp_te1.mean(), K_exp_te2.mean())\n",
    "print(K_exp_te0.std(), K_exp_te1.std(), K_exp_te2.std())"
   ]
  },
  {
   "cell_type": "code",
   "execution_count": 437,
   "metadata": {},
   "outputs": [],
   "source": [
    "# Predictions\n",
    "Yte0 = np.sign(K_exp_te0 @ alpha_0_0)\n",
    "Yte1 = np.sign(K_exp_te1 @ alpha_0_1)\n",
    "Yte2 = np.sign(K_exp_te2 @ alpha_0_2)"
   ]
  },
  {
   "cell_type": "code",
   "execution_count": 453,
   "metadata": {},
   "outputs": [],
   "source": [
    "# Concatenate and add Id column\n",
    "Yte = np.concatenate([Yte0, Yte1, Yte2])\n",
    "Yte = (Yte + 1) // 2\n",
    "Yte = pd.DataFrame(data=Yte, columns=['Bound'], dtype='int64')\n",
    "Yte.insert(0, 'Id', Yte.index)"
   ]
  },
  {
   "cell_type": "code",
   "execution_count": 454,
   "metadata": {},
   "outputs": [],
   "source": [
    "Yte.to_csv('Yte.csv', index=False)"
   ]
  }
 ],
 "metadata": {
  "kernelspec": {
   "display_name": "general_env",
   "language": "python",
   "name": "python3"
  },
  "language_info": {
   "codemirror_mode": {
    "name": "ipython",
    "version": 3
   },
   "file_extension": ".py",
   "mimetype": "text/x-python",
   "name": "python",
   "nbconvert_exporter": "python",
   "pygments_lexer": "ipython3",
   "version": "3.11.11"
  }
 },
 "nbformat": 4,
 "nbformat_minor": 2
}
